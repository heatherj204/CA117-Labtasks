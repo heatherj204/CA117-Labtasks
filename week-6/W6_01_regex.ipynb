{
  "cells": [
    {
      "cell_type": "markdown",
      "metadata": {
        "id": "VP382ilVk2Vx"
      },
      "source": [
        "# Lecture 6.1 : Regular expressions"
      ]
    },
    {
      "cell_type": "markdown",
      "metadata": {
        "id": "VYhFOrGxk2V6"
      },
      "source": [
        "## Introduction\n",
        "\n",
        "- Imagine we have downloaded the CA117 classlist from the web as an HTML\n",
        "  document.  \n",
        "- We would like to e-mail all students in the class and included in the\n",
        "  HTML document is every student’s email address. So far so good.  \n",
        "- Unfortunately, the document is “noisy”: 95% of it is HTML mark-up that\n",
        "  obscures the e-mail addresses scattered throughout the document.  \n",
        "- What can we do? We could manually scroll through the document looking\n",
        "  for e-mail addresses and copy them to a list. That would be a tedious\n",
        "  and error-prone task however. Is there an easier way?  \n",
        "- It would be great if we could specify a “pattern” or “template” that\n",
        "  matched and extracted just the information in the document that\n",
        "  is of interest to us i.e. e-mail addresses.  \n",
        "- If we could specify a general pattern that every e-mail address follows\n",
        "  and then extract everything in the document that matches that pattern\n",
        "  then we would have a list of just the required e-mail addresses.  \n",
        "- Regular expressions allow us to do just that!  "
      ]
    },
    {
      "cell_type": "markdown",
      "metadata": {
        "id": "arRPxct1k2V7"
      },
      "source": [
        "## Regular expressions\n",
        "\n",
        "- Regular expressions are used to specify patterns for entities we wish\n",
        "  to locate and match in a larger string.  \n",
        "- Examples might be dates, times, e-mail addresses, names, credit card\n",
        "  numbers, social security numbers, directory paths, file names, etc.  \n",
        "- Once we have defined a suitable regular expression we can ask questions\n",
        "  such as the following: Is there a match for this pattern anywhere in the\n",
        "  given string?  \n",
        "- Regular expressions also allow us to efficiently find all substrings of\n",
        "  a larger string that match the specified pattern.  \n",
        "- This would seem ideal for our task: If we treat the HTML document as a\n",
        "  single large string our task is to extract every substring from it that\n",
        "  matches the pattern of an e-mail address.  "
      ]
    },
    {
      "cell_type": "markdown",
      "metadata": {
        "id": "vd70zmLak2V8"
      },
      "source": [
        "## Defining patterns\n",
        "\n",
        "- The simplest of patterns takes the form of an ordinary string.  \n",
        "- Below we define a regular expression `r'cat'` to match occurrences of\n",
        "  the pattern ‘cat’ and we call this regular expression `p` (for\n",
        "  pattern).  \n",
        "- When defining a pattern we *always* precede it with ‘r’  in order to\n",
        "  indicate to Python that this is a *raw string* (this prevents\n",
        "  Python imposing its own interpretation on any special sequences that\n",
        "  might arise in the pattern).  \n",
        "- We match this pattern against the string `s` by calling\n",
        "  `findall()`. The latter function returns a list of all substrings\n",
        "  of `s` that match the defined pattern.  \n",
        "- Two matches, as we might expect, are returned.  "
      ]
    },
    {
      "cell_type": "code",
      "execution_count": 3,
      "metadata": {
        "colab": {
          "base_uri": "https://localhost:8080/"
        },
        "hide-output": false,
        "id": "fLp9L4S-k2V8",
        "outputId": "8fd142f3-298a-4456-ff7d-d43ef3df48c8"
      },
      "outputs": [
        {
          "name": "stdout",
          "output_type": "stream",
          "text": [
            "['cat']\n"
          ]
        }
      ],
      "source": [
        "# TODO\n",
        "# We want to find all matches for a given pattern so import the required function\n",
        "# import re\n",
        "from re import findall\n",
        "\n",
        "# We will look for matches in here\n",
        "s = 'A catatonic cat sat on the mat. Catastrophe!'\n",
        "\n",
        "# TODO\n",
        "# Define our pattern in a raw string\n",
        "p = r'cat'\n",
        "\n",
        "# TODO\n",
        "# Look for matches and print the result\n",
        "print(findall(p, s))"
      ]
    },
    {
      "cell_type": "code",
      "execution_count": 7,
      "metadata": {
        "colab": {
          "base_uri": "https://localhost:8080/"
        },
        "id": "RozmaYihiH7z",
        "outputId": "ac9c1559-6b0b-46fd-a736-887b8013dddb"
      },
      "outputs": [
        {
          "name": "stdout",
          "output_type": "stream",
          "text": [
            "\n",
            "\n",
            "\\n\n"
          ]
        }
      ],
      "source": [
        "p = '\\n'\n",
        "p1 = r'\\n'\n",
        "print(p)\n",
        "print(p1)"
      ]
    },
    {
      "cell_type": "markdown",
      "metadata": {
        "id": "hxO5vAvMk2V9"
      },
      "source": [
        "\n",
        "\n",
        "## Character classes\n",
        "\n",
        "- We can define *character classes* to be matched against.  \n",
        "- The character class `[abc]` will match any *single* character a,\n",
        "  or b or c.  \n",
        "- The character class `[a-z]` will match any *single* character a\n",
        "  through z.  \n",
        "- The class `[a-zA-Z0-9]` will match any alphanumeric character.  \n",
        "- Let’s use a character class to match instances of both ‘cat’ and ‘Cat’.  "
      ]
    },
    {
      "cell_type": "code",
      "execution_count": 8,
      "metadata": {
        "colab": {
          "base_uri": "https://localhost:8080/"
        },
        "hide-output": false,
        "id": "9opIw04Dk2V-",
        "outputId": "f4ce5384-2395-4ae3-ac13-c540081a23dd"
      },
      "outputs": [
        {
          "name": "stdout",
          "output_type": "stream",
          "text": [
            "['cat', 'cat', 'Cat']\n"
          ]
        }
      ],
      "source": [
        "from re import findall\n",
        "# We will look for matches in here\n",
        "s = 'A catatonic cat sat on the mat. Catastrophe!'\n",
        "\n",
        "# TODO\n",
        "# Match one of 'C' or 'c' followed by 'at'\n",
        "p = r'[Cc]at'\n",
        "\n",
        "# Match and print the result\n",
        "print(findall(p, s))"
      ]
    },
    {
      "cell_type": "markdown",
      "metadata": {
        "id": "a-LTVQNmk2V_"
      },
      "source": [
        "\n",
        "\n",
        "## Character class negation\n",
        "\n",
        "- We can negate character classes by preceding them with the ^ symbol.  "
      ]
    },
    {
      "cell_type": "code",
      "execution_count": 9,
      "metadata": {
        "colab": {
          "base_uri": "https://localhost:8080/"
        },
        "hide-output": false,
        "id": "d30gvdOkk2V_",
        "outputId": "16f9ba9b-4db4-448b-ab75-3d39c56ba897"
      },
      "outputs": [
        {
          "name": "stdout",
          "output_type": "stream",
          "text": [
            "['tat', 'sat', 'mat']\n"
          ]
        }
      ],
      "source": [
        "# We will look for matches in here\n",
        "s = 'A catatonic cat sat on the mat. Catastrophe!'\n",
        "\n",
        "# TODO\n",
        "# Match anything except 'C' or 'c' followed by 'at'\n",
        "p = r'[^Cc]at'\n",
        "\n",
        "# Match and print the result\n",
        "print(findall(p, s))"
      ]
    },
    {
      "cell_type": "markdown",
      "metadata": {
        "id": "uyVdYQ0Sk2WA"
      },
      "source": [
        "\n",
        "\n",
        "## Sequences\n",
        "\n",
        "- In addition to defining our own character classes we can call upon a\n",
        "  predefined set of character classes when constructing regular expressions.  \n",
        "- Such predefined classes are accessed using *special sequences*.  \n",
        "    \n",
        "    \n",
        "    \n",
        "    \n",
        "    \n",
        "    \n",
        "    \n",
        "    \n",
        "    \n",
        "    \n",
        "    \n",
        "    \n",
        "    \n",
        "    \n",
        "    \n",
        "    \n",
        "  |Sequence|Matches|\n",
        "  |:------:|:--------------------------------------------------------------------------:|\n",
        "  |\\d|Matches any decimal digit|\n",
        "  |\\D|Matches any non-digit|\n",
        "  |\\s|Matches any whitespace character (e.g. space, tab, newline)|\n",
        "  |\\S|Matches any non-whitespace character|\n",
        "  |\\w|Matches any alphanumeric character|\n",
        "  |\\W|Matches any non-alphanumeric character|\n",
        "  |\\b|Matches any word boundary (a word is an alphanumeric sequence of characters)|\n",
        "\n",
        "\n",
        ">"
      ]
    },
    {
      "cell_type": "code",
      "execution_count": 10,
      "metadata": {
        "colab": {
          "base_uri": "https://localhost:8080/"
        },
        "hide-output": false,
        "id": "2Hxf2ATkk2WA",
        "outputId": "ad2cdaf5-af16-4e53-a6ae-da76d3812070"
      },
      "outputs": [
        {
          "name": "stdout",
          "output_type": "stream",
          "text": [
            "['1', '2', '3', '4']\n",
            "[]\n"
          ]
        }
      ],
      "source": [
        "# TODO\n",
        "# Match any single digit\n",
        "p = r'\\d'\n",
        "\n",
        "print(findall(p, '1 and 2 and 34'))\n",
        "print(findall(p, 'No digits here'))"
      ]
    },
    {
      "cell_type": "code",
      "execution_count": 11,
      "metadata": {
        "colab": {
          "base_uri": "https://localhost:8080/"
        },
        "hide-output": false,
        "id": "e-nOhR1Xk2WB",
        "outputId": "91aaabf1-9233-4308-b446-551dcf2919d2"
      },
      "outputs": [
        {
          "name": "stdout",
          "output_type": "stream",
          "text": [
            "[' ', 'a', 'n', 'd', ' ', ' ', 'a', 'n', 'd', ' ']\n",
            "['N', 'o', ' ', 'd', 'i', 'g', 'i', 't', 's', ' ', 'h', 'e', 'r', 'e']\n"
          ]
        }
      ],
      "source": [
        "# TODO\n",
        "# Match any single non-digit\n",
        "p = r'\\D'\n",
        "\n",
        "print(findall(p, '1 and 2 and 34'))\n",
        "print(findall(p, 'No digits here'))"
      ]
    },
    {
      "cell_type": "code",
      "execution_count": 12,
      "metadata": {
        "colab": {
          "base_uri": "https://localhost:8080/"
        },
        "hide-output": false,
        "id": "aR3Sl8MFk2WB",
        "outputId": "6e0233c1-4b2c-45dc-a98a-694e126fcc34"
      },
      "outputs": [
        {
          "name": "stdout",
          "output_type": "stream",
          "text": [
            "[' ', ' ', ' ', ' ']\n",
            "[' ', ' ']\n",
            "['\\n', '\\t']\n"
          ]
        }
      ],
      "source": [
        "# TODO\n",
        "# Match any single whitespace character\n",
        "p = r'\\s'\n",
        "\n",
        "print(findall(p, '1 and 2 and 34'))\n",
        "print(findall(p, 'No digits here'))\n",
        "print(findall(p, '1\\n2\\t3'))"
      ]
    },
    {
      "cell_type": "code",
      "execution_count": 13,
      "metadata": {
        "colab": {
          "base_uri": "https://localhost:8080/"
        },
        "hide-output": false,
        "id": "gknR8rcLk2WC",
        "outputId": "7febf52f-b427-4a3b-d26c-688c98efb0f0"
      },
      "outputs": [
        {
          "name": "stdout",
          "output_type": "stream",
          "text": [
            "['1', '2', '3']\n"
          ]
        }
      ],
      "source": [
        "# TODO\n",
        "# Match any single non-whitespace character\n",
        "p = r'\\S'\n",
        "\n",
        "print(findall(p, '1\\n2\\t3'))"
      ]
    },
    {
      "cell_type": "code",
      "execution_count": 14,
      "metadata": {
        "colab": {
          "base_uri": "https://localhost:8080/"
        },
        "hide-output": false,
        "id": "yB36y7DTk2WC",
        "outputId": "287f6799-77c2-415c-cdc4-bb3c3de8e425"
      },
      "outputs": [
        {
          "name": "stdout",
          "output_type": "stream",
          "text": [
            "['1', 'a', 'n', 'd', '2', 'a', 'n', 'd', '3', '4']\n",
            "['1', '2', '3']\n"
          ]
        }
      ],
      "source": [
        "# TODO\n",
        "# Match any single alphanumeric character (digits and letters)\n",
        "p = r'\\w'\n",
        "\n",
        "print(findall(p, '1 and 2 and 34'))\n",
        "print(findall(p, '1\\n2\\t3'))"
      ]
    },
    {
      "cell_type": "code",
      "execution_count": 15,
      "metadata": {
        "colab": {
          "base_uri": "https://localhost:8080/"
        },
        "id": "V18PY4l_mZiN",
        "outputId": "2b3f3bf0-9616-4cca-a1f5-ed9b9fab0984"
      },
      "outputs": [
        {
          "name": "stdout",
          "output_type": "stream",
          "text": [
            "[' ', ' ', ' ', ' ']\n",
            "['\\n', '\\t']\n",
            "[' ', '<', ' ']\n"
          ]
        }
      ],
      "source": [
        "# TODOfindall(p, '1 and 2 and 34'))\n",
        "print(findall(p, '1\\n2\\t3'))\n",
        "print(findall(p, '1 < 3'))\n",
        "# Match any single non-alphanumeric character\n",
        "p = r'\\W'\n",
        "\n",
        "print("
      ]
    },
    {
      "cell_type": "markdown",
      "metadata": {
        "id": "XzSYeShXk2WD"
      },
      "source": [
        "\n",
        "## Metacharacters\n",
        "\n",
        "- Most characters simply match themselves.  \n",
        "- Exceptions are metacharacters.  \n",
        "- Metacharacters are special characters that do not match themselves but\n",
        "  signal that something else should be matched.  \n",
        "- Here are three common examples:  \n",
        "    \n",
        "    \n",
        "    \n",
        "    \n",
        "    \n",
        "    \n",
        "    \n",
        "    \n",
        "  |Metacharacter|Matches|\n",
        "  |:-----------:|:---------------------------------------:|\n",
        "  |^|Matches the beginning of a string|\n",
        "  |\\$|Matches the end of a string|\n",
        "  |.|Matches any character (except a new line)|"
      ]
    },
    {
      "cell_type": "code",
      "execution_count": 19,
      "metadata": {
        "colab": {
          "base_uri": "https://localhost:8080/"
        },
        "id": "h0HBIRuIQUkN",
        "outputId": "223ee118-0571-4024-a9e0-7bfc478e4f5e"
      },
      "outputs": [
        {
          "name": "stdout",
          "output_type": "stream",
          "text": [
            "['of']\n"
          ]
        }
      ],
      "source": [
        "s = 'One rule of grammar says avoid ending a sentence with of'\n",
        "\n",
        "# TODO\n",
        "# Look for of's that break this rule\n",
        "p = r'of$'\n",
        "\n",
        "print(findall(p, s))"
      ]
    },
    {
      "cell_type": "markdown",
      "metadata": {
        "id": "ngwp0wNDk2WD"
      },
      "source": [
        "## A pattern that occurs once or zero times\n",
        "\n",
        "- We can match a pattern once or zero times with the ? metacharacter.  \n",
        "- Thus we can use ? to effectively make a pattern *optional*.  "
      ]
    },
    {
      "cell_type": "code",
      "execution_count": null,
      "metadata": {
        "colab": {
          "base_uri": "https://localhost:8080/"
        },
        "hide-output": false,
        "id": "ysddTifak2WE",
        "outputId": "c906a535-792f-4aeb-cf64-94cd1116cd01"
      },
      "outputs": [
        {
          "name": "stdout",
          "output_type": "stream",
          "text": [
            "[]\n",
            "['color']\n",
            "['colour']\n"
          ]
        }
      ],
      "source": [
        "# TODO\n",
        "# Match US and IE spelling of colour\n",
        "p = r'colou?r'\n",
        "\n",
        "print(findall(p, 'In America they spell it colouur')) # only 0 or 1 won't match 2\n",
        "print(findall(p, 'In America they spell it color'))\n",
        "print(findall(p, 'Over here we spell it colour'))"
      ]
    },
    {
      "cell_type": "markdown",
      "metadata": {
        "id": "1lPpbxQXk2WE"
      },
      "source": [
        "\n",
        "\n",
        "## Repeating a pattern a fixed number of times\n",
        "\n",
        "- With regular expressions we can match portions of a pattern multiple\n",
        "  times.  \n",
        "- We do so by specifying the number of required matches inside curly\n",
        "brackets.  "
      ]
    },
    {
      "cell_type": "code",
      "execution_count": 30,
      "metadata": {
        "colab": {
          "base_uri": "https://localhost:8080/"
        },
        "hide-output": false,
        "id": "5bIHDawFk2WF",
        "outputId": "6dcb7c9a-baab-4ddc-b543-ae60a68a4128"
      },
      "outputs": [
        {
          "name": "stdout",
          "output_type": "stream",
          "text": [
            "['25-12-21']\n",
            "['14/02/21']\n"
          ]
        }
      ],
      "source": [
        "# TODO\n",
        "# Match a date of the form dd/mm/yy or dd-mm-yy\n",
        "# p = r'[0-9][0-9][-/][0-9][0-9][-/][0-9][0-9]'\n",
        "p = r'\\d{2}[-/]\\d{2}[-/]\\d{2}'\n",
        "\n",
        "print(findall(p, 'Christmas falls on 25-12-21'))\n",
        "print(findall(p, \"Valentine's Day is 14/02/21\"))"
      ]
    },
    {
      "cell_type": "markdown",
      "metadata": {
        "id": "EmCxBlJik2WF"
      },
      "source": [
        "\n",
        "\n",
        "## Groups\n",
        "\n",
        "- If our pattern contains a *group* of characters that must be matched\n",
        "some number of times then we need to enclose the pattern with `(?:`\n",
        "on the left hand side and `)` on the right hand side.  "
      ]
    },
    {
      "cell_type": "code",
      "execution_count": 34,
      "metadata": {
        "colab": {
          "base_uri": "https://localhost:8080/"
        },
        "id": "IX9Apluz4d7M",
        "outputId": "f69bb2b3-bc62-4009-a732-4fb185e37e02"
      },
      "outputs": [
        {
          "name": "stdout",
          "output_type": "stream",
          "text": [
            "['March 17', 'April 1']\n"
          ]
        }
      ],
      "source": [
        "s = \"St. Patrick's Day is March 17. April Fool's Day is April 1.\"\n",
        "\n",
        "# TODO\n",
        "# Let's try to match dates of the above form\n",
        "\n",
        "p = r'(?:March|April) \\d{1,2}'\n",
        "\n",
        "print(findall(p, s))"
      ]
    },
    {
      "cell_type": "markdown",
      "metadata": {
        "id": "zkKTsmWvk2WG"
      },
      "source": [
        "\n",
        "\n",
        "## Repeating a pattern at least M and at most N times\n",
        "\n",
        "- If we need to match a pattern at *least* a number of times *N* and\n",
        "at *most* a number of times *N* then we write `{m, n}`.  "
      ]
    },
    {
      "cell_type": "code",
      "execution_count": 36,
      "metadata": {
        "colab": {
          "base_uri": "https://localhost:8080/"
        },
        "hide-output": false,
        "id": "DmBL44eok2WH",
        "outputId": "0e7fb83a-1d5c-4b97-b23c-9479452f99f8"
      },
      "outputs": [
        {
          "name": "stdout",
          "output_type": "stream",
          "text": [
            "['Hey!']\n",
            "['Heey!']\n",
            "['Heeeey!']\n",
            "[]\n"
          ]
        }
      ],
      "source": [
        "# TODO\n",
        "# The more e's in your hey the happier you are\n",
        "p = r'He{1,4}y!'\n",
        "\n",
        "print(findall(p, 'Hey!'))\n",
        "print(findall(p, 'Heey!'))\n",
        "print(findall(p, 'Heeeey!'))\n",
        "print(findall(p, 'Heeeeeeey!')) # Too happy to match"
      ]
    },
    {
      "cell_type": "markdown",
      "metadata": {
        "id": "2bb11EJIk2WH"
      },
      "source": [
        "\n",
        "\n",
        "## Repeating a pattern zero or more times\n",
        "\n",
        "- Some *metacharacters* allow us to handle an *arbitrary* number of\n",
        "  matches.  \n",
        "- One such metacharacter for specifying a repeated pattern is *.  \n",
        "- The * metacharacter signifies that the preceding pattern can be matched\n",
        "zero or more times.  "
      ]
    },
    {
      "cell_type": "code",
      "execution_count": 39,
      "metadata": {
        "colab": {
          "base_uri": "https://localhost:8080/"
        },
        "hide-output": false,
        "id": "3bWY79glk2WI",
        "outputId": "c661248e-28b7-4dd8-d89c-571b0f0701fe"
      },
      "outputs": [
        {
          "name": "stdout",
          "output_type": "stream",
          "text": [
            "['Yabba Dabba Do!']\n",
            "['Yabba Dabba Doo!']\n",
            "['Yabba Dabba Doooooooooo!']\n",
            "['Yabba Dabba D!']\n"
          ]
        }
      ],
      "source": [
        "# TODO\n",
        "# Match zero or more o's in the final Do\n",
        "p = r'Yabba Dabba Do*!'\n",
        "\n",
        "print(findall(p, 'Yabba Dabba Do!'))\n",
        "print(findall(p, 'Yabba Dabba Doo!'))\n",
        "print(findall(p, 'Yabba Dabba Doooooooooo!'))\n",
        "print(findall(p, 'Yabba Dabba D!')) # We probably shouldn't match this"
      ]
    },
    {
      "cell_type": "markdown",
      "metadata": {
        "id": "ryh5F1lGk2WI"
      },
      "source": [
        "\n",
        "\n",
        "## Repeating a pattern one or more times\n",
        "\n",
        "- Another metacharacter for specifying a repeated pattern is +.  \n",
        "- It signifies that the preceding pattern can be matched an arbitrary number\n",
        "  of times but *must be matched at least once*.  \n",
        "- Note the difference between * and +: with * the specified pattern may\n",
        "not be present at all while with + the specified pattern must be present\n",
        "at least once.  "
      ]
    },
    {
      "cell_type": "code",
      "execution_count": 41,
      "metadata": {
        "colab": {
          "base_uri": "https://localhost:8080/"
        },
        "hide-output": false,
        "id": "WgtK1Zyuk2WI",
        "outputId": "68277c57-20de-4c0e-8628-426e5d89169b"
      },
      "outputs": [
        {
          "name": "stdout",
          "output_type": "stream",
          "text": [
            "['Yabba Dabba Do!']\n",
            "['Yabba Dabba Doo!']\n",
            "['Yabba Dabba Doooooooooo!']\n",
            "[]\n"
          ]
        }
      ],
      "source": [
        "# TODO\n",
        "# Match one or more o's in the final Do\n",
        "p = r'Yabba Dabba Do+!'\n",
        "\n",
        "print(findall(p, 'Yabba Dabba Do!'))\n",
        "print(findall(p, 'Yabba Dabba Doo!'))\n",
        "print(findall(p, 'Yabba Dabba Doooooooooo!'))\n",
        "print(findall(p, 'Yabba Dabba D!')) # We no longer match this"
      ]
    },
    {
      "cell_type": "markdown",
      "metadata": {
        "id": "YDZS2fsmsXFx"
      },
      "source": [
        "## Exercise\n",
        "\n",
        "- Extract the longest contiguous sequence of upper-case letters from a string"
      ]
    },
    {
      "cell_type": "code",
      "execution_count": 46,
      "metadata": {
        "colab": {
          "base_uri": "https://localhost:8080/"
        },
        "id": "XJ5-_tX4FwbG",
        "outputId": "918daa00-3844-4b91-8131-d0dc4c5035f5"
      },
      "outputs": [
        {
          "name": "stdout",
          "output_type": "stream",
          "text": [
            "QWERTYUIOP\n"
          ]
        }
      ],
      "source": [
        "s = 'ABcdefQWERTYUIOPxyzZASDF'\n",
        "\n",
        "# TODO\n",
        "# Match a contiguous sequence of capital letters\n",
        "p = r'[A-Z]+'\n",
        "\n",
        "matches = findall(p, s)\n",
        "\n",
        "print(max(matches, key=len))"
      ]
    },
    {
      "cell_type": "markdown",
      "metadata": {
        "id": "fCtNS6ymsjtR"
      },
      "source": [
        "## Exercise\n",
        "\n",
        "- Map aaabbbcddd to 3a3b1c3d"
      ]
    },
    {
      "cell_type": "code",
      "execution_count": 56,
      "metadata": {
        "colab": {
          "base_uri": "https://localhost:8080/"
        },
        "id": "mJLEheKFstR3",
        "outputId": "4197f985-ff86-4db6-8f8a-ce19a00e8cb0"
      },
      "outputs": [
        {
          "name": "stdout",
          "output_type": "stream",
          "text": [
            "3a3b1c3d\n"
          ]
        }
      ],
      "source": [
        "# TODO\n",
        "# Match one or more instances of any lower case letter\n",
        "from string import ascii_lowercase\n",
        "\n",
        "letters = list(ascii_lowercase)\n",
        "# print(letters)\n",
        "\n",
        "p = '+|'.join(letters) + '+'\n",
        "# print(p)\n",
        "\n",
        "s = 'aaabbbcddd'\n",
        "matches = findall(p, s)\n",
        "# print(matches)\n",
        "\n",
        "print(\"\".join([f\"{len(s)}{s[0]}\" for s in matches]))"
      ]
    }
  ],
  "metadata": {
    "colab": {
      "provenance": []
    },
    "date": 1614799536.3032572,
    "filename": "01_regex.rst",
    "kernelspec": {
      "display_name": "Python",
      "language": "python3",
      "name": "python3"
    },
    "language_info": {
      "codemirror_mode": {
        "name": "ipython",
        "version": 3
      },
      "file_extension": ".py",
      "mimetype": "text/x-python",
      "name": "python",
      "nbconvert_exporter": "python",
      "pygments_lexer": "ipython3",
      "version": "3.11.8"
    },
    "title": "Lecture 6.1 : Regular expressions"
  },
  "nbformat": 4,
  "nbformat_minor": 0
}
